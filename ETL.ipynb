{
  "nbformat": 4,
  "nbformat_minor": 0,
  "metadata": {
    "colab": {
      "provenance": [],
      "authorship_tag": "ABX9TyNCp2e70I6IQ5x75itOHAPa",
      "include_colab_link": true
    },
    "kernelspec": {
      "name": "python3",
      "display_name": "Python 3"
    },
    "language_info": {
      "name": "python"
    }
  },
  "cells": [
    {
      "cell_type": "markdown",
      "metadata": {
        "id": "view-in-github",
        "colab_type": "text"
      },
      "source": [
        "<a href=\"https://colab.research.google.com/github/vitoriacgomes/Pipeline-de-Dados-1/blob/main/ETL.ipynb\" target=\"_parent\"><img src=\"https://colab.research.google.com/assets/colab-badge.svg\" alt=\"Open In Colab\"/></a>"
      ]
    },
    {
      "cell_type": "code",
      "execution_count": 45,
      "metadata": {
        "id": "60xG0mkMA1Ak"
      },
      "outputs": [],
      "source": [
        "import os\n",
        "import requests #faz requisições HTTP e busca dados da API\n",
        "import json #útil na manipulação dos dados"
      ]
    },
    {
      "cell_type": "code",
      "source": [
        "import pandas as pd #manipulação de dados"
      ],
      "metadata": {
        "id": "RRKaLuy2Yw_s"
      },
      "execution_count": 46,
      "outputs": []
    },
    {
      "cell_type": "code",
      "source": [
        "limit = 9"
      ],
      "metadata": {
        "id": "GgmxEub8o7ya"
      },
      "execution_count": 63,
      "outputs": []
    },
    {
      "cell_type": "code",
      "source": [
        "#ETL - Extract, Transform, Load\n",
        "\n",
        "#Função para extrair dados da API DummyJSON\n",
        "def extract_data(endpoint):\n",
        "  response = requests.get(endpoint) #requisição GET para o endpoint fornecido\n",
        "  if response.status_code == 200: #resposta bem sucedida\n",
        "    return response.json() #retorna dados em json\n",
        "  else:\n",
        "    print (f\"Erro ao extrair dados da API: {response.status_code}\")\n",
        "    return None"
      ],
      "metadata": {
        "id": "RwZqbFNpA4XU"
      },
      "execution_count": 64,
      "outputs": []
    },
    {
      "cell_type": "code",
      "source": [
        "#Função para fazer o LOAD\n",
        "def load_data(data,path):\n",
        "  id = data [\"id\"]\n",
        "  # Dentro da pasta path, criar um arquivo json com o nome do arquivo sendo o id o nome do arquivo .json\n",
        "  os.makedirs(path, exist_ok=True) #cria a pasta se ela não existir\n",
        "  with open(f\"{path}/{id}.json\", \"w\") as file:\n",
        "    json.dump(data, file)"
      ],
      "metadata": {
        "id": "SDb1ow87Ainb"
      },
      "execution_count": 65,
      "outputs": []
    },
    {
      "cell_type": "code",
      "source": [
        "def loop_load_data(endpoint):\n",
        "  url = \"https://dummyjson.com/\" + endpoint #simplifica a url do endpoint\n",
        "  i = 1\n",
        "  while True:\n",
        "    data = extract_data(url + \"/\" + str(i)) #obter dados das IDs em sequencia\n",
        "    if data and i < limit: #limite\n",
        "      load_data(data, \"raw/\" + endpoint) #salva na pasta\n",
        "    elif i >= limit:\n",
        "      break\n",
        "    else:\n",
        "      print(f\"Erro ao extrair dados da API: {data}\")\n",
        "      break\n",
        "    i += 1"
      ],
      "metadata": {
        "id": "a_3Z-j6kAm7Q"
      },
      "execution_count": 66,
      "outputs": []
    },
    {
      "cell_type": "code",
      "source": [
        "  # Lista das colunas desejadas para 'products'\n",
        "colunas_products = [\n",
        "    'id', 'title', 'description', 'category', 'price',\n",
        "    'discountPercentage', 'rating', 'stock', 'brand', 'sku', 'weight', 'dimensions',\n",
        "    'warrantyInformation', 'shippingInformation', 'availabilityStatus', 'returnPolicy',\n",
        "    'minimumOrderQuantity', 'meta', 'thumbnail'\n",
        "]\n",
        "\n",
        "def transform_data_json_to_csv(endpoint, i):\n",
        "    print(f\"Transformando {endpoint}/{i}.json para csv\")\n",
        "\n",
        "    # Abrir o arquivo JSON\n",
        "    with open(f'raw/{endpoint}/{i}.json', 'r') as file:\n",
        "        data = json.load(file)\n",
        "\n",
        "    # Criar DataFrame de acordo com o tipo de endpoint\n",
        "    if endpoint == 'user':\n",
        "        df = pd.DataFrame(data)\n",
        "    elif endpoint == 'products':\n",
        "        df = pd.DataFrame([data])[colunas_products]  # Filtrar apenas as colunas desejadas\n",
        "\n",
        "    # Criar pasta 'curated' caso não exista\n",
        "    os.makedirs(f'curated/{endpoint}', exist_ok=True)\n",
        "\n",
        "    # Converter JSON para CSV\n",
        "    df.to_csv(f'curated/{endpoint}/{i}.csv', index=False)\n"
      ],
      "metadata": {
        "id": "PBO2d0rNGXOq"
      },
      "execution_count": 70,
      "outputs": []
    },
    {
      "cell_type": "code",
      "source": [
        "endpoints = ['user', 'products'] #definição dos endpoint que devem ser extraidos"
      ],
      "metadata": {
        "id": "MSjIxSTSBUIJ"
      },
      "execution_count": 71,
      "outputs": []
    },
    {
      "cell_type": "code",
      "source": [
        "for endpoint in endpoints: #percorre a lista e chama a função loop_load_data para cada endpoint\n",
        "  #loop_load_data(endpoint)\n",
        "  for i in range(1, limit + 1):\n",
        "    transform_data_json_to_csv(endpoint, i)\n"
      ],
      "metadata": {
        "colab": {
          "base_uri": "https://localhost:8080/"
        },
        "id": "EpsTBoFoBbVZ",
        "outputId": "ca5aa148-f955-4337-c866-38cffcf4c31b"
      },
      "execution_count": 72,
      "outputs": [
        {
          "output_type": "stream",
          "name": "stdout",
          "text": [
            "Transformando user/1.json para csv\n",
            "Transformando user/2.json para csv\n",
            "Transformando user/3.json para csv\n",
            "Transformando user/4.json para csv\n",
            "Transformando user/5.json para csv\n",
            "Transformando user/6.json para csv\n",
            "Transformando user/7.json para csv\n",
            "Transformando user/8.json para csv\n",
            "Transformando user/9.json para csv\n",
            "Transformando products/1.json para csv\n",
            "Transformando products/2.json para csv\n",
            "Transformando products/3.json para csv\n",
            "Transformando products/4.json para csv\n",
            "Transformando products/5.json para csv\n",
            "Transformando products/6.json para csv\n",
            "Transformando products/7.json para csv\n",
            "Transformando products/8.json para csv\n",
            "Transformando products/9.json para csv\n"
          ]
        }
      ]
    }
  ]
}